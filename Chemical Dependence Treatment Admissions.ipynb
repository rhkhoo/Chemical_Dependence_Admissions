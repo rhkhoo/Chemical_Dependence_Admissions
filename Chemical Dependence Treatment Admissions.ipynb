{
 "cells": [
  {
   "cell_type": "markdown",
   "id": "pleased-blend",
   "metadata": {},
   "source": [
    "New York State's Office of Addiction Services and Supports ([OASAS](https://oasas.ny.gov/)) oversees one of the nation’s largest Substance Use Disorder systems of care with approximately 1,700 prevention, treatment, and recovery programs serving over 680,000 individuals per year. By analysing data from these programs, we can see if the program has been effective over the past decade. We can also use this data to predict what the future may hold for OASAS to adjust strategies for treatment and prevention.\n",
    "\n",
    "\n",
    "This project explores Admissions data from [OASAS](https://data.ny.gov/Human-Services/Chemical-Dependence-Treatment-Program-Admissions-B/ngbt-9rwf) from 2007 to 2018 about chemical dependence treatment programs in the state of New York. Using Facebook's Prophet, I forecast future admissions for these programs. To see some interesting visualizations, check out my [Tableau](https://public.tableau.com/profile/rachel.khoo#!/vizhome/ChemicalDependenceTreatmentAdmissions/11YearComparison-Substances) public profile."
   ]
  },
  {
   "cell_type": "code",
   "execution_count": 1,
   "id": "collective-roller",
   "metadata": {},
   "outputs": [],
   "source": [
    "import pandas as pd\n",
    "import matplotlib.pyplot as plt\n",
    "import seaborn as sns\n",
    "import plotly.express as px\n",
    "\n",
    "import prophet as Prophet\n",
    "\n",
    "from ipywidgets import interact, interactive, fixed, interact_manual\n",
    "import ipywidgets as widgets"
   ]
  },
  {
   "cell_type": "code",
   "execution_count": 2,
   "id": "composed-texture",
   "metadata": {},
   "outputs": [],
   "source": [
    "df = pd.read_csv('Chemical_Dependence_Treatment_Program_Admissions__Beginning_2007.csv')"
   ]
  },
  {
   "cell_type": "code",
   "execution_count": 3,
   "id": "distant-midnight",
   "metadata": {},
   "outputs": [
    {
     "data": {
      "text/html": [
       "<div>\n",
       "<style scoped>\n",
       "    .dataframe tbody tr th:only-of-type {\n",
       "        vertical-align: middle;\n",
       "    }\n",
       "\n",
       "    .dataframe tbody tr th {\n",
       "        vertical-align: top;\n",
       "    }\n",
       "\n",
       "    .dataframe thead th {\n",
       "        text-align: right;\n",
       "    }\n",
       "</style>\n",
       "<table border=\"1\" class=\"dataframe\">\n",
       "  <thead>\n",
       "    <tr style=\"text-align: right;\">\n",
       "      <th></th>\n",
       "      <th>Year</th>\n",
       "      <th>County of Program Location</th>\n",
       "      <th>Program Category</th>\n",
       "      <th>Service Type</th>\n",
       "      <th>Age Group</th>\n",
       "      <th>Primary Substance Group</th>\n",
       "      <th>Admissions</th>\n",
       "    </tr>\n",
       "  </thead>\n",
       "  <tbody>\n",
       "    <tr>\n",
       "      <th>0</th>\n",
       "      <td>2007</td>\n",
       "      <td>Albany</td>\n",
       "      <td>Crisis</td>\n",
       "      <td>Medical Managed Detoxification</td>\n",
       "      <td>Under 18</td>\n",
       "      <td>Heroin</td>\n",
       "      <td>4</td>\n",
       "    </tr>\n",
       "    <tr>\n",
       "      <th>1</th>\n",
       "      <td>2007</td>\n",
       "      <td>Albany</td>\n",
       "      <td>Crisis</td>\n",
       "      <td>Medical Managed Detoxification</td>\n",
       "      <td>18 thru 24</td>\n",
       "      <td>Alcohol</td>\n",
       "      <td>35</td>\n",
       "    </tr>\n",
       "    <tr>\n",
       "      <th>2</th>\n",
       "      <td>2007</td>\n",
       "      <td>Albany</td>\n",
       "      <td>Crisis</td>\n",
       "      <td>Medical Managed Detoxification</td>\n",
       "      <td>18 thru 24</td>\n",
       "      <td>Heroin</td>\n",
       "      <td>132</td>\n",
       "    </tr>\n",
       "    <tr>\n",
       "      <th>3</th>\n",
       "      <td>2007</td>\n",
       "      <td>Albany</td>\n",
       "      <td>Crisis</td>\n",
       "      <td>Medical Managed Detoxification</td>\n",
       "      <td>18 thru 24</td>\n",
       "      <td>Other Opioids</td>\n",
       "      <td>6</td>\n",
       "    </tr>\n",
       "    <tr>\n",
       "      <th>4</th>\n",
       "      <td>2007</td>\n",
       "      <td>Albany</td>\n",
       "      <td>Crisis</td>\n",
       "      <td>Medical Managed Detoxification</td>\n",
       "      <td>18 thru 24</td>\n",
       "      <td>All Others</td>\n",
       "      <td>2</td>\n",
       "    </tr>\n",
       "  </tbody>\n",
       "</table>\n",
       "</div>"
      ],
      "text/plain": [
       "   Year County of Program Location Program Category  \\\n",
       "0  2007                     Albany           Crisis   \n",
       "1  2007                     Albany           Crisis   \n",
       "2  2007                     Albany           Crisis   \n",
       "3  2007                     Albany           Crisis   \n",
       "4  2007                     Albany           Crisis   \n",
       "\n",
       "                     Service Type   Age Group Primary Substance Group  \\\n",
       "0  Medical Managed Detoxification    Under 18                  Heroin   \n",
       "1  Medical Managed Detoxification  18 thru 24                 Alcohol   \n",
       "2  Medical Managed Detoxification  18 thru 24                  Heroin   \n",
       "3  Medical Managed Detoxification  18 thru 24           Other Opioids   \n",
       "4  Medical Managed Detoxification  18 thru 24              All Others   \n",
       "\n",
       "   Admissions  \n",
       "0           4  \n",
       "1          35  \n",
       "2         132  \n",
       "3           6  \n",
       "4           2  "
      ]
     },
     "execution_count": 3,
     "metadata": {},
     "output_type": "execute_result"
    }
   ],
   "source": [
    "df.head()"
   ]
  },
  {
   "cell_type": "code",
   "execution_count": 4,
   "id": "sound-broadcast",
   "metadata": {},
   "outputs": [
    {
     "name": "stdout",
     "output_type": "stream",
     "text": [
      "<class 'pandas.core.frame.DataFrame'>\n",
      "RangeIndex: 86374 entries, 0 to 86373\n",
      "Data columns (total 7 columns):\n",
      " #   Column                      Non-Null Count  Dtype \n",
      "---  ------                      --------------  ----- \n",
      " 0   Year                        86374 non-null  int64 \n",
      " 1   County of Program Location  86374 non-null  object\n",
      " 2   Program Category            86374 non-null  object\n",
      " 3   Service Type                86374 non-null  object\n",
      " 4   Age Group                   86374 non-null  object\n",
      " 5   Primary Substance Group     86374 non-null  object\n",
      " 6   Admissions                  86374 non-null  int64 \n",
      "dtypes: int64(2), object(5)\n",
      "memory usage: 4.6+ MB\n"
     ]
    }
   ],
   "source": [
    "df.info()"
   ]
  },
  {
   "cell_type": "code",
   "execution_count": 5,
   "id": "hollywood-shadow",
   "metadata": {
    "scrolled": false
   },
   "outputs": [
    {
     "data": {
      "text/plain": [
       "2019    6957\n",
       "2018    6950\n",
       "2017    6820\n",
       "2012    6700\n",
       "2010    6655\n",
       "2011    6623\n",
       "2013    6619\n",
       "2007    6550\n",
       "2009    6540\n",
       "2008    6519\n",
       "2014    6507\n",
       "2015    6506\n",
       "2016    6428\n",
       "Name: Year, dtype: int64"
      ]
     },
     "execution_count": 5,
     "metadata": {},
     "output_type": "execute_result"
    }
   ],
   "source": [
    "df['Year'].value_counts()"
   ]
  },
  {
   "cell_type": "code",
   "execution_count": 6,
   "id": "dominant-specialist",
   "metadata": {},
   "outputs": [
    {
     "data": {
      "text/plain": [
       "Outpatient                  30574\n",
       "Residential                 24081\n",
       "Crisis                      16281\n",
       "Inpatient                   11886\n",
       "Opioid Treatment Program     3091\n",
       "Specialized                   461\n",
       "Name: Program Category, dtype: int64"
      ]
     },
     "execution_count": 6,
     "metadata": {},
     "output_type": "execute_result"
    }
   ],
   "source": [
    "df['Program Category'].value_counts()"
   ]
  },
  {
   "cell_type": "code",
   "execution_count": 7,
   "id": "interracial-exchange",
   "metadata": {
    "scrolled": true
   },
   "outputs": [
    {
     "data": {
      "text/plain": [
       "Outpatient Clinic                    24028\n",
       "Inpatient Rehabilitation             11876\n",
       "Community Residential                10083\n",
       "Outpatient Rehabilitation             6418\n",
       "Intensive Residential                 5745\n",
       "Medical Managed Detoxification        5631\n",
       "Medically Monitored Withdrawal        4989\n",
       "Med Sup Withdrawal - Inpatient        4809\n",
       "Supportive Living                     4687\n",
       "Opioid Outpatient Treatment           2523\n",
       "Residential Rehab for Youth           1194\n",
       "Med Sup Withdrawal-Outpatient          852\n",
       "Stabilization Rehab Reintegration      796\n",
       "Stabilization and Rehab                583\n",
       "Residential Stabilization              339\n",
       "Specialized Services Outpt Rehab       254\n",
       "Residential Reintegration              250\n",
       "Residential Rehabilitation             238\n",
       "OTP Intensive Residential              206\n",
       "Limited Outpatient/KEEP                193\n",
       "MAOT-A-Residential                     169\n",
       "Specialized Outpatient - TBI           136\n",
       "Rehab and Reintegration                132\n",
       "Outpat Chem Depend for Youth           127\n",
       "Specialized Outpatient - Mobile         71\n",
       "Long Term Res CD/Youth                  34\n",
       "Short Term Res CD/Youth                 10\n",
       "Non-Med Sup Chem Depend OP               1\n",
       "Name: Service Type, dtype: int64"
      ]
     },
     "execution_count": 7,
     "metadata": {},
     "output_type": "execute_result"
    }
   ],
   "source": [
    "df['Service Type'].value_counts()"
   ]
  },
  {
   "cell_type": "code",
   "execution_count": 8,
   "id": "scientific-sphere",
   "metadata": {},
   "outputs": [
    {
     "data": {
      "text/plain": [
       "New York    4514\n",
       "Suffolk     3370\n",
       "Queens      3242\n",
       "Dutchess    3100\n",
       "Erie        3087\n",
       "            ... \n",
       "Tioga        311\n",
       "Essex        310\n",
       "Schuyler     299\n",
       "Yates        289\n",
       "Lewis        137\n",
       "Name: County of Program Location, Length: 61, dtype: int64"
      ]
     },
     "execution_count": 8,
     "metadata": {},
     "output_type": "execute_result"
    }
   ],
   "source": [
    "df['County of Program Location'].value_counts()"
   ]
  },
  {
   "cell_type": "markdown",
   "id": "empty-finding",
   "metadata": {},
   "source": [
    "Since the distribution of admissions is likely to follow the population density of the counties, population data for each county would be helpful to compare admission numbers to total number of people in that county. Additionally, Hamilton county is missing from this dataset."
   ]
  },
  {
   "cell_type": "code",
   "execution_count": 9,
   "id": "south-center",
   "metadata": {},
   "outputs": [
    {
     "data": {
      "text/html": [
       "<div>\n",
       "<style scoped>\n",
       "    .dataframe tbody tr th:only-of-type {\n",
       "        vertical-align: middle;\n",
       "    }\n",
       "\n",
       "    .dataframe tbody tr th {\n",
       "        vertical-align: top;\n",
       "    }\n",
       "\n",
       "    .dataframe thead th {\n",
       "        text-align: right;\n",
       "    }\n",
       "</style>\n",
       "<table border=\"1\" class=\"dataframe\">\n",
       "  <thead>\n",
       "    <tr style=\"text-align: right;\">\n",
       "      <th></th>\n",
       "      <th>County</th>\n",
       "      <th>Population</th>\n",
       "      <th>Year</th>\n",
       "    </tr>\n",
       "  </thead>\n",
       "  <tbody>\n",
       "    <tr>\n",
       "      <th>0</th>\n",
       "      <td>Bronx</td>\n",
       "      <td>1373659</td>\n",
       "      <td>2007</td>\n",
       "    </tr>\n",
       "    <tr>\n",
       "      <th>1</th>\n",
       "      <td>Kings</td>\n",
       "      <td>2528050</td>\n",
       "      <td>2007</td>\n",
       "    </tr>\n",
       "    <tr>\n",
       "      <th>2</th>\n",
       "      <td>New York</td>\n",
       "      <td>1620867</td>\n",
       "      <td>2007</td>\n",
       "    </tr>\n",
       "    <tr>\n",
       "      <th>3</th>\n",
       "      <td>Queens</td>\n",
       "      <td>2270338</td>\n",
       "      <td>2007</td>\n",
       "    </tr>\n",
       "    <tr>\n",
       "      <th>4</th>\n",
       "      <td>Richmond</td>\n",
       "      <td>481613</td>\n",
       "      <td>2007</td>\n",
       "    </tr>\n",
       "    <tr>\n",
       "      <th>...</th>\n",
       "      <td>...</td>\n",
       "      <td>...</td>\n",
       "      <td>...</td>\n",
       "    </tr>\n",
       "    <tr>\n",
       "      <th>739</th>\n",
       "      <td>Washington</td>\n",
       "      <td>61197</td>\n",
       "      <td>2018</td>\n",
       "    </tr>\n",
       "    <tr>\n",
       "      <th>740</th>\n",
       "      <td>Wayne</td>\n",
       "      <td>90064</td>\n",
       "      <td>2018</td>\n",
       "    </tr>\n",
       "    <tr>\n",
       "      <th>741</th>\n",
       "      <td>Westchester</td>\n",
       "      <td>967612</td>\n",
       "      <td>2018</td>\n",
       "    </tr>\n",
       "    <tr>\n",
       "      <th>742</th>\n",
       "      <td>Wyoming</td>\n",
       "      <td>40085</td>\n",
       "      <td>2018</td>\n",
       "    </tr>\n",
       "    <tr>\n",
       "      <th>743</th>\n",
       "      <td>Yates</td>\n",
       "      <td>24841</td>\n",
       "      <td>2018</td>\n",
       "    </tr>\n",
       "  </tbody>\n",
       "</table>\n",
       "<p>744 rows × 3 columns</p>\n",
       "</div>"
      ],
      "text/plain": [
       "          County  Population  Year\n",
       "0          Bronx     1373659  2007\n",
       "1          Kings     2528050  2007\n",
       "2       New York     1620867  2007\n",
       "3         Queens     2270338  2007\n",
       "4       Richmond      481613  2007\n",
       "..           ...         ...   ...\n",
       "739   Washington       61197  2018\n",
       "740        Wayne       90064  2018\n",
       "741  Westchester      967612  2018\n",
       "742      Wyoming       40085  2018\n",
       "743        Yates       24841  2018\n",
       "\n",
       "[744 rows x 3 columns]"
      ]
     },
     "execution_count": 9,
     "metadata": {},
     "output_type": "execute_result"
    }
   ],
   "source": [
    "population_df = pd.read_csv('NY County Population - Sheet1.csv')\n",
    "population_df['Year'] = population_df['Year'].astype(int)\n",
    "population_df['Population'] = population_df['Population'].astype(int)\n",
    "population_df"
   ]
  },
  {
   "cell_type": "code",
   "execution_count": 10,
   "id": "associate-fetish",
   "metadata": {},
   "outputs": [],
   "source": [
    "df=pd.merge(df, population_df,how='outer', left_on =['County of Program Location', 'Year'], right_on = ['County', 'Year'])"
   ]
  },
  {
   "cell_type": "code",
   "execution_count": 11,
   "id": "ideal-neighborhood",
   "metadata": {},
   "outputs": [],
   "source": [
    "df['Percent'] = (df['Admissions'] / df['Population']) * 100"
   ]
  },
  {
   "cell_type": "code",
   "execution_count": 12,
   "id": "thermal-wellington",
   "metadata": {},
   "outputs": [],
   "source": [
    "df.dropna(inplace=True)\n",
    "df.drop(columns=['County'], inplace=True)\n",
    "df['Admissions'] = df['Admissions'].astype(int)\n",
    "df['Population'] = df['Population'].astype(int)\n"
   ]
  },
  {
   "cell_type": "code",
   "execution_count": 13,
   "id": "sealed-chocolate",
   "metadata": {},
   "outputs": [],
   "source": [
    "grouped = df.groupby(['Year', 'County of Program Location', 'Primary Substance Group', 'Age Group','Population'], as_index=False).sum()"
   ]
  },
  {
   "cell_type": "code",
   "execution_count": 14,
   "id": "equipped-analyst",
   "metadata": {},
   "outputs": [
    {
     "name": "stdout",
     "output_type": "stream",
     "text": [
      "<class 'pandas.core.frame.DataFrame'>\n",
      "Int64Index: 22484 entries, 0 to 22483\n",
      "Data columns (total 7 columns):\n",
      " #   Column                      Non-Null Count  Dtype  \n",
      "---  ------                      --------------  -----  \n",
      " 0   Year                        22484 non-null  int64  \n",
      " 1   County of Program Location  22484 non-null  object \n",
      " 2   Primary Substance Group     22484 non-null  object \n",
      " 3   Age Group                   22484 non-null  object \n",
      " 4   Population                  22484 non-null  int64  \n",
      " 5   Admissions                  22484 non-null  int32  \n",
      " 6   Percent                     22484 non-null  float64\n",
      "dtypes: float64(1), int32(1), int64(2), object(3)\n",
      "memory usage: 1.3+ MB\n"
     ]
    }
   ],
   "source": [
    "grouped.info()"
   ]
  },
  {
   "cell_type": "code",
   "execution_count": 15,
   "id": "dried-collar",
   "metadata": {},
   "outputs": [],
   "source": [
    "#created a csv to use in Tableau\n",
    "grouped.to_csv(r'C:\\Users\\rhais\\Documents\\GitHub\\Personal\\grouped.csv', index=False)"
   ]
  },
  {
   "cell_type": "code",
   "execution_count": 16,
   "id": "pleasant-slide",
   "metadata": {},
   "outputs": [
    {
     "data": {
      "text/html": [
       "<div>\n",
       "<style scoped>\n",
       "    .dataframe tbody tr th:only-of-type {\n",
       "        vertical-align: middle;\n",
       "    }\n",
       "\n",
       "    .dataframe tbody tr th {\n",
       "        vertical-align: top;\n",
       "    }\n",
       "\n",
       "    .dataframe thead th {\n",
       "        text-align: right;\n",
       "    }\n",
       "</style>\n",
       "<table border=\"1\" class=\"dataframe\">\n",
       "  <thead>\n",
       "    <tr style=\"text-align: right;\">\n",
       "      <th></th>\n",
       "      <th>County of Program Location</th>\n",
       "      <th>Percent</th>\n",
       "    </tr>\n",
       "  </thead>\n",
       "  <tbody>\n",
       "    <tr>\n",
       "      <th>38</th>\n",
       "      <td>Putnam</td>\n",
       "      <td>76.559360</td>\n",
       "    </tr>\n",
       "    <tr>\n",
       "      <th>44</th>\n",
       "      <td>Schenectady</td>\n",
       "      <td>59.552855</td>\n",
       "    </tr>\n",
       "    <tr>\n",
       "      <th>29</th>\n",
       "      <td>New York</td>\n",
       "      <td>32.506302</td>\n",
       "    </tr>\n",
       "    <tr>\n",
       "      <th>50</th>\n",
       "      <td>Sullivan</td>\n",
       "      <td>30.354077</td>\n",
       "    </tr>\n",
       "    <tr>\n",
       "      <th>0</th>\n",
       "      <td>Albany</td>\n",
       "      <td>29.656560</td>\n",
       "    </tr>\n",
       "  </tbody>\n",
       "</table>\n",
       "</div>"
      ],
      "text/plain": [
       "   County of Program Location    Percent\n",
       "38                     Putnam  76.559360\n",
       "44                Schenectady  59.552855\n",
       "29                   New York  32.506302\n",
       "50                   Sullivan  30.354077\n",
       "0                      Albany  29.656560"
      ]
     },
     "execution_count": 16,
     "metadata": {},
     "output_type": "execute_result"
    }
   ],
   "source": [
    "df.groupby(['County of Program Location'], as_index=False).sum().sort_values('Percent', ascending=False).head(5)[['County of Program Location', 'Percent']]"
   ]
  },
  {
   "cell_type": "markdown",
   "id": "sustained-relevance",
   "metadata": {},
   "source": [
    "Putnam, Schedectady, New York, Sullivan, and Albany county have the highest overall admissions proportional to county population. New York County is the wealthiest county, followed by Putnam (4th overall), Albany (10th), Schenectady (17th), and Sullivan (36th) based on [per capita income]('https://en.wikipedia.org/wiki/List_of_New_York_locations_by_per_capita_income')."
   ]
  },
  {
   "cell_type": "code",
   "execution_count": 17,
   "id": "polyphonic-start",
   "metadata": {},
   "outputs": [
    {
     "data": {
      "text/plain": [
       "25 thru 34      16816\n",
       "18 thru 24      15965\n",
       "35 thru 44      15584\n",
       "45 thru 54      14258\n",
       "55 and Older    10928\n",
       "Under 18         4569\n",
       "Name: Age Group, dtype: int64"
      ]
     },
     "execution_count": 17,
     "metadata": {},
     "output_type": "execute_result"
    }
   ],
   "source": [
    "df['Age Group'].value_counts()"
   ]
  },
  {
   "cell_type": "code",
   "execution_count": 18,
   "id": "joint-azerbaijan",
   "metadata": {
    "scrolled": false
   },
   "outputs": [
    {
     "data": {
      "text/plain": [
       "Alcohol                   15762\n",
       "Heroin                    15127\n",
       "Other Opioids             13331\n",
       "Cocaine incl Crack        12800\n",
       "Marijuana incl Hashish    11441\n",
       "All Others                 9658\n",
       "None                          1\n",
       "Name: Primary Substance Group, dtype: int64"
      ]
     },
     "execution_count": 18,
     "metadata": {},
     "output_type": "execute_result"
    }
   ],
   "source": [
    "df['Primary Substance Group'].value_counts()"
   ]
  },
  {
   "cell_type": "markdown",
   "id": "institutional-python",
   "metadata": {},
   "source": [
    "Alcohol and heroin seem to be the most abused substances over the 11 years covered in this dataset. It will be interesting to see how dependence has changed. I'm going to drop the one record with \"None\" as the substance."
   ]
  },
  {
   "cell_type": "code",
   "execution_count": 19,
   "id": "perceived-billion",
   "metadata": {},
   "outputs": [],
   "source": [
    "df = df[~(df['Primary Substance Group'] == 'None')]"
   ]
  },
  {
   "cell_type": "markdown",
   "id": "universal-tissue",
   "metadata": {},
   "source": [
    "# Past Data (2007 - 2019)"
   ]
  },
  {
   "cell_type": "code",
   "execution_count": 41,
   "id": "abstract-provision",
   "metadata": {},
   "outputs": [
    {
     "data": {
      "image/png": "[encoded data removed]",
      "text/plain": [
       "<Figure size 720x648 with 1 Axes>"
      ]
     },
     "metadata": {
      "needs_background": "light"
     },
     "output_type": "display_data"
    }
   ],
   "source": [
    "plt.figure(figsize=(10,9))\n",
    "sns.lineplot(data=df,x='Year', y = 'Admissions', hue='Primary Substance Group', ci=None)\n",
    "plt.title('Admissions by Substance')\n",
    "plt.show()"
   ]
  },
  {
   "cell_type": "markdown",
   "id": "gothic-election",
   "metadata": {},
   "source": [
    "There has been a decrease in admissions due to alcohol, though there was a slight uptick from 2017 to 2018. Admissions due to marijuana have decreased, possibly due to the drug's increasing legalization. Heroin experienced the greatest increase of all other substances, particularly starting in 2012. In 2011, a [new commissioner](https://oasas.ny.gov/commissioner-biography) of the OASAS was appointed, and some changes that occured in subsequent years could be attributed to programs she instituted. The Statewide Task Force to Combat Heroin and the Prescription Opioid Crisis was established 2016, and the number of admissions due to heroin and other opioids did decrease, suggesting this program is effective.  "
   ]
  },
  {
   "cell_type": "code",
   "execution_count": 21,
   "id": "controlled-programming",
   "metadata": {
    "scrolled": true
   },
   "outputs": [
    {
     "data": {
      "application/vnd.jupyter.widget-view+json": {
       "model_id": "7a24b2d07f4c4628a6c4618d4f5dd5af",
       "version_major": 2,
       "version_minor": 0
      },
      "text/plain": [
       "interactive(children=(Dropdown(description='Field', options=('Under 18', '18 thru 24', '25 thru 34', '35 thru …"
      ]
     },
     "metadata": {},
     "output_type": "display_data"
    }
   ],
   "source": [
    "sub_df= df.groupby(['Age Group','Year', 'Primary Substance Group'], as_index=False).sum()\n",
    "\n",
    "dropdown = ['Under 18','18 thru 24','25 thru 34','35 thru 44','45 thru 54','55 and Older']\n",
    "@interact(Field = dropdown)\n",
    "def viz(Field):\n",
    "    cond = sub_df[sub_df['Age Group'] == Field]\n",
    "    fig = px.bar(data_frame = cond, x= 'Year',y='Admissions', color='Primary Substance Group')\n",
    "    fig.show()\n"
   ]
  },
  {
   "cell_type": "markdown",
   "id": "protecting-questionnaire",
   "metadata": {},
   "source": []
  },
  {
   "cell_type": "code",
   "execution_count": 22,
   "id": "scenic-alpha",
   "metadata": {
    "scrolled": false
   },
   "outputs": [
    {
     "data": {
      "application/vnd.jupyter.widget-view+json": {
       "model_id": "4c2586a5c48a41e9a15f5e282ad49c07",
       "version_major": 2,
       "version_minor": 0
      },
      "text/plain": [
       "interactive(children=(Dropdown(description='Field', options=('Under 18', '18 thru 24', '25 thru 34', '35 thru …"
      ]
     },
     "metadata": {},
     "output_type": "display_data"
    }
   ],
   "source": [
    "age_df= df.groupby(['Year','Age Group'], as_index=False).sum()\n",
    "\n",
    "dropdown = ['Under 18','18 thru 24','25 thru 34','35 thru 44','45 thru 54','55 and Older']\n",
    "@interact(Field = dropdown)\n",
    "def viz(Field):\n",
    "  fig = px.line(data_frame=age_df[age_df['Age Group'] == Field], x='Year', y='Admissions', title=f'{Field} Total Admissions')\n",
    "  fig.show()"
   ]
  },
  {
   "cell_type": "markdown",
   "id": "connected-embassy",
   "metadata": {},
   "source": [
    "Admissions for children under 18 have more than halved in the past decade."
   ]
  },
  {
   "cell_type": "markdown",
   "id": "coral-prerequisite",
   "metadata": {},
   "source": [
    "# Forecasting"
   ]
  },
  {
   "cell_type": "markdown",
   "id": "loved-jurisdiction",
   "metadata": {},
   "source": [
    "I will be using Facebooks's Prophet to predict future admissions. Prophet is easy to use and not much has to be done to the data prior to modeling."
   ]
  },
  {
   "cell_type": "code",
   "execution_count": 23,
   "id": "looking-exhibit",
   "metadata": {},
   "outputs": [],
   "source": [
    "prophet_df = df.groupby('Year', as_index=False).sum()[['Year', 'Admissions']]\n",
    "prophet_df.columns = ['ds', 'y']"
   ]
  },
  {
   "cell_type": "code",
   "execution_count": 24,
   "id": "naval-destruction",
   "metadata": {
    "scrolled": true
   },
   "outputs": [],
   "source": [
    "prophet_df['ds']=pd.to_datetime(prophet_df['ds'], format= '%Y')"
   ]
  },
  {
   "cell_type": "code",
   "execution_count": 25,
   "id": "fresh-dance",
   "metadata": {},
   "outputs": [
    {
     "name": "stderr",
     "output_type": "stream",
     "text": [
      "INFO:prophet:n_changepoints greater than number of observations. Using 8.\n"
     ]
    },
    {
     "data": {
      "text/plain": [
       "<prophet.forecaster.Prophet at 0x22fd858b2c8>"
      ]
     },
     "execution_count": 25,
     "metadata": {},
     "output_type": "execute_result"
    }
   ],
   "source": [
    "m = Prophet.Prophet(daily_seasonality=False, weekly_seasonality=False, n_changepoints=9)\n",
    "m.fit(prophet_df)"
   ]
  },
  {
   "cell_type": "code",
   "execution_count": 26,
   "id": "light-melbourne",
   "metadata": {},
   "outputs": [
    {
     "data": {
      "text/html": [
       "<div>\n",
       "<style scoped>\n",
       "    .dataframe tbody tr th:only-of-type {\n",
       "        vertical-align: middle;\n",
       "    }\n",
       "\n",
       "    .dataframe tbody tr th {\n",
       "        vertical-align: top;\n",
       "    }\n",
       "\n",
       "    .dataframe thead th {\n",
       "        text-align: right;\n",
       "    }\n",
       "</style>\n",
       "<table border=\"1\" class=\"dataframe\">\n",
       "  <thead>\n",
       "    <tr style=\"text-align: right;\">\n",
       "      <th></th>\n",
       "      <th>ds</th>\n",
       "    </tr>\n",
       "  </thead>\n",
       "  <tbody>\n",
       "    <tr>\n",
       "      <th>17</th>\n",
       "      <td>2023-12-31</td>\n",
       "    </tr>\n",
       "    <tr>\n",
       "      <th>18</th>\n",
       "      <td>2024-12-31</td>\n",
       "    </tr>\n",
       "    <tr>\n",
       "      <th>19</th>\n",
       "      <td>2025-12-31</td>\n",
       "    </tr>\n",
       "    <tr>\n",
       "      <th>20</th>\n",
       "      <td>2026-12-31</td>\n",
       "    </tr>\n",
       "    <tr>\n",
       "      <th>21</th>\n",
       "      <td>2027-12-31</td>\n",
       "    </tr>\n",
       "  </tbody>\n",
       "</table>\n",
       "</div>"
      ],
      "text/plain": [
       "           ds\n",
       "17 2023-12-31\n",
       "18 2024-12-31\n",
       "19 2025-12-31\n",
       "20 2026-12-31\n",
       "21 2027-12-31"
      ]
     },
     "execution_count": 26,
     "metadata": {},
     "output_type": "execute_result"
    }
   ],
   "source": [
    "future = m.make_future_dataframe(periods=10, freq='Y')\n",
    "future.tail()"
   ]
  },
  {
   "cell_type": "code",
   "execution_count": 27,
   "id": "daily-dress",
   "metadata": {},
   "outputs": [
    {
     "data": {
      "text/html": [
       "<div>\n",
       "<style scoped>\n",
       "    .dataframe tbody tr th:only-of-type {\n",
       "        vertical-align: middle;\n",
       "    }\n",
       "\n",
       "    .dataframe tbody tr th {\n",
       "        vertical-align: top;\n",
       "    }\n",
       "\n",
       "    .dataframe thead th {\n",
       "        text-align: right;\n",
       "    }\n",
       "</style>\n",
       "<table border=\"1\" class=\"dataframe\">\n",
       "  <thead>\n",
       "    <tr style=\"text-align: right;\">\n",
       "      <th></th>\n",
       "      <th>ds</th>\n",
       "      <th>yhat</th>\n",
       "      <th>yhat_lower</th>\n",
       "      <th>yhat_upper</th>\n",
       "    </tr>\n",
       "  </thead>\n",
       "  <tbody>\n",
       "    <tr>\n",
       "      <th>17</th>\n",
       "      <td>2023-12-31</td>\n",
       "      <td>236074.903253</td>\n",
       "      <td>229937.906891</td>\n",
       "      <td>242654.250271</td>\n",
       "    </tr>\n",
       "    <tr>\n",
       "      <th>18</th>\n",
       "      <td>2024-12-31</td>\n",
       "      <td>239093.848335</td>\n",
       "      <td>232520.463672</td>\n",
       "      <td>245320.602927</td>\n",
       "    </tr>\n",
       "    <tr>\n",
       "      <th>19</th>\n",
       "      <td>2025-12-31</td>\n",
       "      <td>233360.140624</td>\n",
       "      <td>227121.712440</td>\n",
       "      <td>239296.271926</td>\n",
       "    </tr>\n",
       "    <tr>\n",
       "      <th>20</th>\n",
       "      <td>2026-12-31</td>\n",
       "      <td>227262.075716</td>\n",
       "      <td>221200.809895</td>\n",
       "      <td>232974.358379</td>\n",
       "    </tr>\n",
       "    <tr>\n",
       "      <th>21</th>\n",
       "      <td>2027-12-31</td>\n",
       "      <td>220804.392826</td>\n",
       "      <td>214036.897958</td>\n",
       "      <td>226852.053300</td>\n",
       "    </tr>\n",
       "  </tbody>\n",
       "</table>\n",
       "</div>"
      ],
      "text/plain": [
       "           ds           yhat     yhat_lower     yhat_upper\n",
       "17 2023-12-31  236074.903253  229937.906891  242654.250271\n",
       "18 2024-12-31  239093.848335  232520.463672  245320.602927\n",
       "19 2025-12-31  233360.140624  227121.712440  239296.271926\n",
       "20 2026-12-31  227262.075716  221200.809895  232974.358379\n",
       "21 2027-12-31  220804.392826  214036.897958  226852.053300"
      ]
     },
     "execution_count": 27,
     "metadata": {},
     "output_type": "execute_result"
    }
   ],
   "source": [
    "forecast = m.predict(future)\n",
    "forecast[['ds', 'yhat', 'yhat_lower', 'yhat_upper']].tail()\n"
   ]
  },
  {
   "cell_type": "code",
   "execution_count": 28,
   "id": "experimental-dancing",
   "metadata": {
    "scrolled": true
   },
   "outputs": [
    {
     "data": {
      "image/png": "[encoded data removed]",
      "text/plain": [
       "<Figure size 720x432 with 1 Axes>"
      ]
     },
     "metadata": {},
     "output_type": "display_data"
    }
   ],
   "source": [
    "m.plot(forecast)\n",
    "plt.title('Chemical Dependence Admissions Forecast')\n",
    "plt.xlabel('Year')\n",
    "plt.ylabel('Admissions')\n",
    "plt.show()"
   ]
  },
  {
   "cell_type": "code",
   "execution_count": 42,
   "id": "respective-adelaide",
   "metadata": {},
   "outputs": [
    {
     "data": {
      "application/vnd.jupyter.widget-view+json": {
       "model_id": "5e2f172829514d38bf26b4b0ac3ae332",
       "version_major": 2,
       "version_minor": 0
      },
      "text/plain": [
       "interactive(children=(Dropdown(description='Age', options=('Under 18', '18 thru 24', '25 thru 34', '35 thru 44…"
      ]
     },
     "metadata": {},
     "output_type": "display_data"
    }
   ],
   "source": [
    "age_dropdown = ['Under 18','18 thru 24','25 thru 34','35 thru 44','45 thru 54','55 and Older']\n",
    "@interact(Age = age_dropdown)\n",
    "def viz(Age):\n",
    "    specific_df = df[df['Age Group'] == Age]\n",
    "    prophet_df = specific_df.groupby('Year', as_index=False).sum()[['Year','Admissions']]\n",
    "    prophet_df.columns = ['ds', 'y']\n",
    "    prophet_df['ds']=pd.to_datetime(prophet_df['ds'], format= '%Y')\n",
    "    m = Prophet.Prophet(daily_seasonality=False, weekly_seasonality=False, n_changepoints = 4)\n",
    "    m.fit(prophet_df)\n",
    "    future = m.make_future_dataframe(periods=4, freq='Y')\n",
    "    forecast = m.predict(future)\n",
    "    m.plot(forecast)\n",
    "    plt.title('Chemical Dependence Admissions Forecast')\n",
    "    plt.xlabel('Year')\n",
    "    plt.ylabel('Admissions')\n",
    "    plt.show()"
   ]
  },
  {
   "cell_type": "code",
   "execution_count": 29,
   "id": "metropolitan-helicopter",
   "metadata": {
    "scrolled": true
   },
   "outputs": [
    {
     "data": {
      "application/vnd.jupyter.widget-view+json": {
       "model_id": "3bb3846f086e42a586472ec8f5f15b16",
       "version_major": 2,
       "version_minor": 0
      },
      "text/plain": [
       "interactive(children=(Dropdown(description='Age', options=('Under 18', '18 thru 24', '25 thru 34', '35 thru 44…"
      ]
     },
     "metadata": {},
     "output_type": "display_data"
    }
   ],
   "source": [
    "age_dropdown = ['Under 18','18 thru 24','25 thru 34','35 thru 44','45 thru 54','55 and Older']\n",
    "substance_dropdown = list(df['Primary Substance Group'].value_counts().keys())\n",
    "@interact(Age = age_dropdown, Substance = substance_dropdown)\n",
    "def viz(Age, Substance):\n",
    "    specific_df = df[(df['Age Group'] == Age) & (df['Primary Substance Group'] == Substance)]\n",
    "    prophet_df = specific_df.groupby('Year', as_index=False).sum()[['Year','Admissions']]\n",
    "    prophet_df.columns = ['ds', 'y']\n",
    "    prophet_df['ds']=pd.to_datetime(prophet_df['ds'], format= '%Y')\n",
    "    m = Prophet.Prophet(daily_seasonality=False, weekly_seasonality=False, n_changepoints = 4)\n",
    "    m.fit(prophet_df)\n",
    "    future = m.make_future_dataframe(periods=4, freq='Y')\n",
    "    forecast = m.predict(future)\n",
    "    m.plot(forecast)\n",
    "    plt.title('Chemical Dependence Admissions Forecast')\n",
    "    plt.xlabel('Year')\n",
    "    plt.ylabel('Admissions')\n",
    "    plt.show()\n"
   ]
  },
  {
   "cell_type": "markdown",
   "id": "skilled-frontier",
   "metadata": {},
   "source": [
    "Over the past decade, overall admissions for chemical dependence are down.  There was a peak in 2009, possibly a delayed effect of the 2008 financial crisis. It is important to note, however, that just because admissions for treatment of chemical dependence have decrease, it does not necessarily indicate that the prevalence of chemical dependence has decreased, just that not as many people are seeking treatment."
   ]
  },
  {
   "cell_type": "markdown",
   "id": "scheduled-nudist",
   "metadata": {},
   "source": [
    "For children under 18, marijuana is by far the substance for which patients are seeking dependence treatment the most, followed by alcohol. Admissions for people 55 and older have increased across all substance groups, with alcohol being the higest, followed by heroin. Admissions for 25-34 year-olds dependent on heroin saw a huge increase from 2011 to 2016. The overall national opiod dispensing rate peaked in [2012]('https://www.cdc.gov/drugoverdose/maps/rxrate-maps.html')</sup>, and perhaps addicts turned to illegal substitutes after the dispensing rates declined in subsequent years.\n",
    "\n"
   ]
  },
  {
   "cell_type": "markdown",
   "id": "metric-workstation",
   "metadata": {},
   "source": [
    "Overall admissions are expected to decline over the next decade, with periodic spikes that may follow changes in the economy. However, admissions for people between the ages of 25 to 34 are expected to increase, primarily due to heroin and other opiods. People under age 25 are expected to be admitted much less frequently, possibly because of the effectiveness of OASAS's prevention programs. People over 55 are expected to be admitted more for every substance. These patients may be life-long users, so changing this trend may prove difficult. "
   ]
  },
  {
   "cell_type": "markdown",
   "id": "supreme-yukon",
   "metadata": {},
   "source": [
    "It is encouraging to see that overall, admissions for chemical dependence are on the decline. OASAS may want to target older patients and young opioid addicts to address the predicted increase in admissions. "
   ]
  }
 ],
 "metadata": {
  "kernelspec": {
   "display_name": "Python 3",
   "language": "python",
   "name": "python3"
  },
  "language_info": {
   "codemirror_mode": {
    "name": "ipython",
    "version": 3
   },
   "file_extension": ".py",
   "mimetype": "text/x-python",
   "name": "python",
   "nbconvert_exporter": "python",
   "pygments_lexer": "ipython3",
   "version": "3.7.10"
  }
 },
 "nbformat": 4,
 "nbformat_minor": 5
}
